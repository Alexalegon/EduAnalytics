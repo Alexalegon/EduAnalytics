{
 "cells": [
  {
   "cell_type": "code",
   "execution_count": 5,
   "metadata": {},
   "outputs": [
    {
     "name": "stdout",
     "output_type": "stream",
     "text": [
      "Welcome Menu\n",
      "Press the following for login:\n",
      "1 for Admin\n",
      "2 for Teacher\n",
      "3 for Student\n"
     ]
    }
   ],
   "source": [
    "\n",
    "# my_package/my_class.py\n",
    "class UI:\n",
    "    #def __init__(self):\n",
    "        \n",
    "    #def login():\n",
    "\n",
    "    def displayMenu(self):\n",
    "        print(\"Welcome Menu\")\n",
    "        print(\"Press the following for login:\\n1 for Admin\\n2 for Teacher\\n3 for Student\")\n",
    "    \n",
    "        try:\n",
    "            role = int(input(\"Press the following for login:\\n1 for Admin\\n2 for Teacher\\n3 for Student\"))\n",
    "            while(role != 1 and role!= 2 and role!=3):\n",
    "                role = int(input(\"Invalid input. Please enter a number.\"))  \n",
    "        except ValueError:\n",
    "            role = input(\"Invalid input. Please enter a number.\")\n",
    "            while(role != 1 and role!= 2 and role!=3):\n",
    "                role = int(input(\"Invalid input. Please enter a number.\"))\n",
    "# my_package/__main__.py\n",
    "\n",
    "if __name__ == \"__main__\":\n",
    "    ui = UI()\n",
    "    ui.displayMenu()"
   ]
  }
 ],
 "metadata": {
  "kernelspec": {
   "display_name": "base",
   "language": "python",
   "name": "python3"
  },
  "language_info": {
   "codemirror_mode": {
    "name": "ipython",
    "version": 3
   },
   "file_extension": ".py",
   "mimetype": "text/x-python",
   "name": "python",
   "nbconvert_exporter": "python",
   "pygments_lexer": "ipython3",
   "version": "3.11.4"
  }
 },
 "nbformat": 4,
 "nbformat_minor": 5
}
